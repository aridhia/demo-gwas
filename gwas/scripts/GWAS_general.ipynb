{
 "cells": [
  {
   "cell_type": "markdown",
   "metadata": {},
   "source": [
    "# Genotype Quality Control\n",
    "\n",
    "A vital step that should be part of any GWAS is the use of appropriate QC. Subsequent analyses such as genome-wide association studies rely on the high quality of these marker genotypes. Errors in the data can arise for numerous reasons, for example, due to poor quality of DNA samples, poor DNA hybridization to the array, poorly performing genotype probes, and sample mix‐ups or contamination."
   ]
  },
  {
   "cell_type": "markdown",
   "metadata": {},
   "source": [
    "## Software\n",
    "\n",
    "To run the notebook, you will need to have whole genome association analysis toolset **PLINK (v1.9)** downloaded and configured to use within the command line. The script also requires **plinkQC** package which makes the 'PLINK' basic statistics and relationship functions accessible from 'R'.\n",
    "\n",
    "PLINK can either read **text‐format files or binary files**. Because reading large text files can be time‐consuming, it is recommended to use binary files. Text PLINK data consist of two files: one contains information on the individuals and their genotypes (*.ped); the other contains information on the genetic markers (*.map). In contrast, binary PLINK data consist of three files, a binary file that contains individual identifiers (IDs) and genotypes (*.bed), and two text files that contain information on the individuals (*.fam) and on the genetic markers (*.bim)."
   ]
  },
  {
   "cell_type": "markdown",
   "metadata": {},
   "source": [
    "## Data\n",
    "\n",
    "The raw data is in PLINK text format:\n",
    "<br>\n",
    "- <b>adgwas.map</b> Pmap files that contain the position of each SNP on the chromosomes relative to the Human Genome. The pmap file is in the 4 column format.\n",
    "- <b>adgwas.ped</b> Pedigree file that contains genotypes calls from 502,627 SNPs on the 364 samples are given as well as anonymous individual identifiers for each sample. Data is not filtered for call rates, allele frequencies or Hardy Weinberg equilibrium. Data is not imputed. Alleles are coded as A, C, G, T and missing=0. "
   ]
  },
  {
   "cell_type": "markdown",
   "metadata": {},
   "source": [
    "## Quality Control\n",
    "\n",
    "The Quality Control of markers is divided into two steps: **per-individual** and **per-marker** quality control. \n",
    "<img src=\"./GWAS.png\">"
   ]
  },
  {
   "cell_type": "code",
   "execution_count": null,
   "metadata": {},
   "outputs": [],
   "source": [
    "# Set directories\n",
    "library(plinkQC)\n",
    "package.dir <- find.package('plinkQC')\n",
    "\n",
    "# Dir where data is stored\n",
    "setwd('..')\n",
    "indir <- paste(getwd(), '/data', sep='')\n",
    "qcdir <- paste(getwd(), '/output', sep='')\n",
    "\n",
    "# Prefix of the binary PLINK files (*.bim, *.bed, *.fam) \n",
    "name <- 'raw'"
   ]
  },
  {
   "cell_type": "code",
   "execution_count": null,
   "metadata": {},
   "outputs": [],
   "source": [
    "# Change this dir to PLINK location on your PC!\n",
    "path2plink <- \"/home/gabi/Desktop/plink_109/plink\""
   ]
  },
  {
   "cell_type": "code",
   "execution_count": null,
   "metadata": {},
   "outputs": [],
   "source": [
    "# Make PLINK binary files (raw.bim, raw.bam, raw.fam) from the text ones (adgwas.ped, adgwas.map)\n",
    "make_binary = paste(path2plink, ' --file ', indir, '/adgwas --make-bed --out ', indir, '/raw', sep=\"\")\n",
    "system(make_binary, intern=TRUE)"
   ]
  },
  {
   "cell_type": "markdown",
   "metadata": {},
   "source": [
    "## Individual Quality Control\n",
    "\n",
    "Filtering and removing samples (individuals) that do not meet QC standards. Individual QC consists of four steps:\n",
    "- (i) *check_sex*: for the identification of individuals with **discordant sex information**\n",
    "- (ii) *check_heterozygosity_and_missingness*: for the identification of individuals with **outlying missing genotype and heterozygosity rates**\n",
    "- (iii) *check_relatedness*: for the identification of **related individuals**\n",
    "- (iv) *check_ancestry*: identification of individuals of **divergent ancestry**"
   ]
  },
  {
   "cell_type": "code",
   "execution_count": null,
   "metadata": {},
   "outputs": [],
   "source": [
    "fail_individuals <- perIndividualQC(indir=indir, qcdir=qcdir, name=name, path2plink=path2plink,\n",
    "                                    dont.check_sex=TRUE, dont.check_ancestry=TRUE,\n",
    "                                    imissTh = 0.1, hetTh = 3,\n",
    "                                    highIBDTh=0.2,\n",
    "                                    interactive=TRUE, verbose=TRUE, showPlinkOutput=FALSE)"
   ]
  },
  {
   "cell_type": "markdown",
   "metadata": {},
   "source": [
    "## SNP Quality Control\n",
    "\n",
    "The variant quality control consists of three steps:\n",
    "- (i) *check_snp_missingnes*: for the identifying markers with excessive **missing genotype rates**\n",
    "- (ii) *check_hwe*: for the identifying markers showing a significant deviation from **Hardy-Weinberg equilibrium (HWE)**\n",
    "- (iii) *check_maf*: for the removal of markers with low **minor allele frequency (MAF)**"
   ]
  },
  {
   "cell_type": "code",
   "execution_count": null,
   "metadata": {},
   "outputs": [],
   "source": [
    "fail_markers <- perMarkerQC(indir=indir, qcdir=qcdir, name=name, path2plink=path2plink,\n",
    "                            lmissTh = 0.10, \n",
    "                            hweTh = 1e-05,\n",
    "                            mafTh=0.01, macTh=NULL,\n",
    "                            verbose=TRUE, interactive=TRUE, showPlinkOutput=FALSE)"
   ]
  },
  {
   "cell_type": "code",
   "execution_count": null,
   "metadata": {},
   "outputs": [],
   "source": [
    "overview_marker <- overviewPerMarkerQC(fail_markers, interactive=TRUE)"
   ]
  },
  {
   "cell_type": "markdown",
   "metadata": {},
   "source": [
    "## Create a clean dataset\n",
    "\n",
    "Once we are done with the quality control, we can create a QCed dataset, that will be used as input for the association."
   ]
  },
  {
   "cell_type": "code",
   "execution_count": null,
   "metadata": {},
   "outputs": [],
   "source": [
    "Ids  <- cleanData(indir=indir, qcdir=qcdir, name=name, path2plink=path2plink, \n",
    "                  filterSex=FALSE, filterRelated=FALSE, filterAncestry=FALSE,\n",
    "                  verbose=TRUE, showPlinkOutput=FALSE)"
   ]
  },
  {
   "cell_type": "markdown",
   "metadata": {},
   "source": [
    "## Run the association test\n",
    "\n",
    "Since the plinkQC package does not provide functions for running association tests, we will run it directly from the notebook as a shell command. \n",
    "\n",
    "Since this is a binary (case/control) study, we will use the **logistic regression** for the association. "
   ]
  },
  {
   "cell_type": "code",
   "execution_count": null,
   "metadata": {
    "scrolled": true
   },
   "outputs": [],
   "source": [
    "assoc = paste(path2plink, ' --bfile ', qcdir, '/', name, '.clean --logistic --allow-no-sex --ci 0.95 --out ', qcdir, '/load', sep='')\n",
    "system(assoc, intern=FALSE)"
   ]
  }
 ],
 "metadata": {
  "kernelspec": {
   "display_name": "R",
   "language": "R",
   "name": "ir"
  },
  "language_info": {
   "codemirror_mode": "r",
   "file_extension": ".r",
   "mimetype": "text/x-r-source",
   "name": "R",
   "pygments_lexer": "r",
   "version": "3.6.3"
  }
 },
 "nbformat": 4,
 "nbformat_minor": 4
}
